{
 "cells": [
  {
   "cell_type": "code",
   "execution_count": 2,
   "id": "05b6fb7b-36cb-4d03-8fe6-82938e99c392",
   "metadata": {},
   "outputs": [],
   "source": [
    "import pandas as pd\n",
    "from datetime import datetime, date, timedelta"
   ]
  },
  {
   "cell_type": "code",
   "execution_count": 4,
   "id": "1d59089f-1807-428d-b981-40a3f3acdcca",
   "metadata": {},
   "outputs": [],
   "source": [
    "df = pd.read_csv('green_tripdata_2019-01.csv', nrows=100)"
   ]
  },
  {
   "cell_type": "code",
   "execution_count": 5,
   "id": "db19b5fe-3f04-4fad-80b0-c2882046c856",
   "metadata": {},
   "outputs": [
    {
     "name": "stdout",
     "output_type": "stream",
     "text": [
      "<class 'pandas.core.frame.DataFrame'>\n",
      "RangeIndex: 100 entries, 0 to 99\n",
      "Data columns (total 20 columns):\n",
      " #   Column                 Non-Null Count  Dtype  \n",
      "---  ------                 --------------  -----  \n",
      " 0   VendorID               100 non-null    int64  \n",
      " 1   lpep_pickup_datetime   100 non-null    object \n",
      " 2   lpep_dropoff_datetime  100 non-null    object \n",
      " 3   store_and_fwd_flag     100 non-null    object \n",
      " 4   RatecodeID             100 non-null    int64  \n",
      " 5   PULocationID           100 non-null    int64  \n",
      " 6   DOLocationID           100 non-null    int64  \n",
      " 7   passenger_count        100 non-null    int64  \n",
      " 8   trip_distance          100 non-null    float64\n",
      " 9   fare_amount            100 non-null    float64\n",
      " 10  extra                  100 non-null    float64\n",
      " 11  mta_tax                100 non-null    float64\n",
      " 12  tip_amount             100 non-null    float64\n",
      " 13  tolls_amount           100 non-null    float64\n",
      " 14  ehail_fee              0 non-null      float64\n",
      " 15  improvement_surcharge  100 non-null    float64\n",
      " 16  total_amount           100 non-null    float64\n",
      " 17  payment_type           100 non-null    int64  \n",
      " 18  trip_type              100 non-null    int64  \n",
      " 19  congestion_surcharge   0 non-null      float64\n",
      "dtypes: float64(10), int64(7), object(3)\n",
      "memory usage: 15.8+ KB\n"
     ]
    }
   ],
   "source": [
    "df.info()"
   ]
  },
  {
   "cell_type": "code",
   "execution_count": 6,
   "id": "32aa4c22-4b9d-44a9-a6f2-b4961f406c0a",
   "metadata": {},
   "outputs": [],
   "source": [
    "df = pd.read_csv('green_tripdata_2019-01.csv', parse_dates=['lpep_pickup_datetime', 'lpep_dropoff_datetime'], dtype={'RatecodeID': float, 'store_and_fwd_flag': str})"
   ]
  },
  {
   "cell_type": "code",
   "execution_count": 8,
   "id": "51d3c016-12c8-4784-9500-b950a1ea4b71",
   "metadata": {},
   "outputs": [
    {
     "data": {
      "text/html": [
       "<div>\n",
       "<style scoped>\n",
       "    .dataframe tbody tr th:only-of-type {\n",
       "        vertical-align: middle;\n",
       "    }\n",
       "\n",
       "    .dataframe tbody tr th {\n",
       "        vertical-align: top;\n",
       "    }\n",
       "\n",
       "    .dataframe thead th {\n",
       "        text-align: right;\n",
       "    }\n",
       "</style>\n",
       "<table border=\"1\" class=\"dataframe\">\n",
       "  <thead>\n",
       "    <tr style=\"text-align: right;\">\n",
       "      <th></th>\n",
       "      <th>lpep_pickup_datetime</th>\n",
       "      <th>lpep_dropoff_datetime</th>\n",
       "    </tr>\n",
       "  </thead>\n",
       "  <tbody>\n",
       "    <tr>\n",
       "      <th>min</th>\n",
       "      <td>2009-01-01 00:05:59</td>\n",
       "      <td>2009-01-01 00:06:03</td>\n",
       "    </tr>\n",
       "    <tr>\n",
       "      <th>max</th>\n",
       "      <td>2019-02-01 21:51:23</td>\n",
       "      <td>2019-02-01 23:10:47</td>\n",
       "    </tr>\n",
       "  </tbody>\n",
       "</table>\n",
       "</div>"
      ],
      "text/plain": [
       "    lpep_pickup_datetime lpep_dropoff_datetime\n",
       "min  2009-01-01 00:05:59   2009-01-01 00:06:03\n",
       "max  2019-02-01 21:51:23   2019-02-01 23:10:47"
      ]
     },
     "execution_count": 8,
     "metadata": {},
     "output_type": "execute_result"
    }
   ],
   "source": [
    "df[['lpep_pickup_datetime', 'lpep_dropoff_datetime']].agg([min, max])"
   ]
  },
  {
   "cell_type": "code",
   "execution_count": 13,
   "id": "cda224d3-1a4e-4a5d-a1a7-52a12853450f",
   "metadata": {},
   "outputs": [],
   "source": [
    "# Question 3: Count records  (Multiple choice)\n",
    "# How many taxi trips were totally made on January 15?\n",
    "\n",
    "test = df[(df.lpep_pickup_datetime >= datetime(2019, 1, 15)) & (df.lpep_pickup_datetime < datetime(2019, 1, 16)) & (df.lpep_dropoff_datetime >= datetime(2019, 1, 15)) & (df.lpep_dropoff_datetime < datetime(2019, 1, 16))]"
   ]
  },
  {
   "cell_type": "code",
   "execution_count": 14,
   "id": "0159255d-8d7d-44ff-a7ef-714580ec477a",
   "metadata": {},
   "outputs": [
    {
     "data": {
      "text/plain": [
       "VendorID                 20530\n",
       "lpep_pickup_datetime     20530\n",
       "lpep_dropoff_datetime    20530\n",
       "store_and_fwd_flag       20530\n",
       "RatecodeID               20530\n",
       "PULocationID             20530\n",
       "DOLocationID             20530\n",
       "passenger_count          20530\n",
       "trip_distance            20530\n",
       "fare_amount              20530\n",
       "extra                    20530\n",
       "mta_tax                  20530\n",
       "tip_amount               20530\n",
       "tolls_amount             20530\n",
       "ehail_fee                    0\n",
       "improvement_surcharge    20530\n",
       "total_amount             20530\n",
       "payment_type             20530\n",
       "trip_type                20530\n",
       "congestion_surcharge         0\n",
       "dtype: int64"
      ]
     },
     "execution_count": 14,
     "metadata": {},
     "output_type": "execute_result"
    }
   ],
   "source": [
    "test.count()"
   ]
  },
  {
   "cell_type": "code",
   "execution_count": 19,
   "id": "c4c4ce14-0e78-4d5f-b99e-0f928af8c272",
   "metadata": {},
   "outputs": [
    {
     "name": "stdout",
     "output_type": "stream",
     "text": [
      "117.99\n"
     ]
    },
    {
     "data": {
      "text/html": [
       "<div>\n",
       "<style scoped>\n",
       "    .dataframe tbody tr th:only-of-type {\n",
       "        vertical-align: middle;\n",
       "    }\n",
       "\n",
       "    .dataframe tbody tr th {\n",
       "        vertical-align: top;\n",
       "    }\n",
       "\n",
       "    .dataframe thead th {\n",
       "        text-align: right;\n",
       "    }\n",
       "</style>\n",
       "<table border=\"1\" class=\"dataframe\">\n",
       "  <thead>\n",
       "    <tr style=\"text-align: right;\">\n",
       "      <th></th>\n",
       "      <th>lpep_pickup_datetime</th>\n",
       "      <th>lpep_dropoff_datetime</th>\n",
       "      <th>trip_distance</th>\n",
       "    </tr>\n",
       "  </thead>\n",
       "  <tbody>\n",
       "    <tr>\n",
       "      <th>297377</th>\n",
       "      <td>2019-01-15 19:27:58</td>\n",
       "      <td>2019-01-15 22:59:01</td>\n",
       "      <td>117.99</td>\n",
       "    </tr>\n",
       "  </tbody>\n",
       "</table>\n",
       "</div>"
      ],
      "text/plain": [
       "       lpep_pickup_datetime lpep_dropoff_datetime  trip_distance\n",
       "297377  2019-01-15 19:27:58   2019-01-15 22:59:01         117.99"
      ]
     },
     "execution_count": 19,
     "metadata": {},
     "output_type": "execute_result"
    }
   ],
   "source": [
    "# Question 4: Largest trip for each day (Multiple choice)\n",
    "# Which was the day with the largest trip distance?\n",
    "\n",
    "max_dist = df.trip_distance.max()\n",
    "print(f'{max_dist}')\n",
    "df[df.trip_distance == max_dist][['lpep_pickup_datetime', 'lpep_dropoff_datetime', 'trip_distance']]"
   ]
  },
  {
   "cell_type": "code",
   "execution_count": 23,
   "id": "7c693ead-7f20-433b-bdc2-713355d2ee7f",
   "metadata": {},
   "outputs": [
    {
     "name": "stdout",
     "output_type": "stream",
     "text": [
      "<class 'pandas.core.frame.DataFrame'>\n",
      "RangeIndex: 630918 entries, 0 to 630917\n",
      "Data columns (total 20 columns):\n",
      " #   Column                 Non-Null Count   Dtype         \n",
      "---  ------                 --------------   -----         \n",
      " 0   VendorID               630918 non-null  int64         \n",
      " 1   lpep_pickup_datetime   630918 non-null  datetime64[ns]\n",
      " 2   lpep_dropoff_datetime  630918 non-null  datetime64[ns]\n",
      " 3   store_and_fwd_flag     630918 non-null  object        \n",
      " 4   RatecodeID             630918 non-null  float64       \n",
      " 5   PULocationID           630918 non-null  int64         \n",
      " 6   DOLocationID           630918 non-null  int64         \n",
      " 7   passenger_count        630918 non-null  int64         \n",
      " 8   trip_distance          630918 non-null  float64       \n",
      " 9   fare_amount            630918 non-null  float64       \n",
      " 10  extra                  630918 non-null  float64       \n",
      " 11  mta_tax                630918 non-null  float64       \n",
      " 12  tip_amount             630918 non-null  float64       \n",
      " 13  tolls_amount           630918 non-null  float64       \n",
      " 14  ehail_fee              0 non-null       float64       \n",
      " 15  improvement_surcharge  630918 non-null  float64       \n",
      " 16  total_amount           630918 non-null  float64       \n",
      " 17  payment_type           630918 non-null  int64         \n",
      " 18  trip_type              630918 non-null  int64         \n",
      " 19  congestion_surcharge   84538 non-null   float64       \n",
      "dtypes: datetime64[ns](2), float64(11), int64(6), object(1)\n",
      "memory usage: 96.3+ MB\n"
     ]
    }
   ],
   "source": [
    "df.info()"
   ]
  },
  {
   "cell_type": "code",
   "execution_count": 31,
   "id": "de8de860-792d-4065-9007-557359ac8783",
   "metadata": {},
   "outputs": [
    {
     "data": {
      "text/plain": [
       "1    12415\n",
       "2     1282\n",
       "5      616\n",
       "6      273\n",
       "3      254\n",
       "4      129\n",
       "0       21\n",
       "Name: passenger_count, dtype: int64"
      ]
     },
     "execution_count": 31,
     "metadata": {},
     "output_type": "execute_result"
    }
   ],
   "source": [
    "# Question 5: The number of passengers  (Multiple choice)\n",
    "# In 2019-01-01 how many trips had 2 and 3 passengers?\n",
    "\n",
    "df_20190101 = df[(df['lpep_pickup_datetime'] >= '2019-01-01') & (df['lpep_pickup_datetime'] < '2019-01-02')\n",
    "                # & (df['lpep_dropoff_datetime'] >= '2019-01-01') & (df['lpep_dropoff_datetime'] < '2019-01-02')\n",
    "                ]\n",
    "df_20190101['passenger_count'].value_counts()"
   ]
  },
  {
   "cell_type": "code",
   "execution_count": 32,
   "id": "fa2d745a-c95e-455f-81b9-41c38982fba2",
   "metadata": {},
   "outputs": [],
   "source": [
    "# Question 6: Largest tip (Multiple choice)\n",
    "# For the passengers picked up in the Astoria Zone which was the drop up zone that had the largest tip?\n",
    "\n",
    "zones = pd.read_csv('taxi+_zone_lookup.csv')"
   ]
  },
  {
   "cell_type": "code",
   "execution_count": 35,
   "id": "1901c2dc-d37e-43c9-8e24-1addb3f86638",
   "metadata": {},
   "outputs": [
    {
     "data": {
      "text/html": [
       "<div>\n",
       "<style scoped>\n",
       "    .dataframe tbody tr th:only-of-type {\n",
       "        vertical-align: middle;\n",
       "    }\n",
       "\n",
       "    .dataframe tbody tr th {\n",
       "        vertical-align: top;\n",
       "    }\n",
       "\n",
       "    .dataframe thead th {\n",
       "        text-align: right;\n",
       "    }\n",
       "</style>\n",
       "<table border=\"1\" class=\"dataframe\">\n",
       "  <thead>\n",
       "    <tr style=\"text-align: right;\">\n",
       "      <th></th>\n",
       "      <th>LocationID</th>\n",
       "      <th>Borough</th>\n",
       "      <th>Zone</th>\n",
       "      <th>service_zone</th>\n",
       "    </tr>\n",
       "  </thead>\n",
       "  <tbody>\n",
       "    <tr>\n",
       "      <th>0</th>\n",
       "      <td>1</td>\n",
       "      <td>EWR</td>\n",
       "      <td>Newark Airport</td>\n",
       "      <td>EWR</td>\n",
       "    </tr>\n",
       "    <tr>\n",
       "      <th>1</th>\n",
       "      <td>2</td>\n",
       "      <td>Queens</td>\n",
       "      <td>Jamaica Bay</td>\n",
       "      <td>Boro Zone</td>\n",
       "    </tr>\n",
       "    <tr>\n",
       "      <th>2</th>\n",
       "      <td>3</td>\n",
       "      <td>Bronx</td>\n",
       "      <td>Allerton/Pelham Gardens</td>\n",
       "      <td>Boro Zone</td>\n",
       "    </tr>\n",
       "    <tr>\n",
       "      <th>3</th>\n",
       "      <td>4</td>\n",
       "      <td>Manhattan</td>\n",
       "      <td>Alphabet City</td>\n",
       "      <td>Yellow Zone</td>\n",
       "    </tr>\n",
       "    <tr>\n",
       "      <th>4</th>\n",
       "      <td>5</td>\n",
       "      <td>Staten Island</td>\n",
       "      <td>Arden Heights</td>\n",
       "      <td>Boro Zone</td>\n",
       "    </tr>\n",
       "  </tbody>\n",
       "</table>\n",
       "</div>"
      ],
      "text/plain": [
       "   LocationID        Borough                     Zone service_zone\n",
       "0           1            EWR           Newark Airport          EWR\n",
       "1           2         Queens              Jamaica Bay    Boro Zone\n",
       "2           3          Bronx  Allerton/Pelham Gardens    Boro Zone\n",
       "3           4      Manhattan            Alphabet City  Yellow Zone\n",
       "4           5  Staten Island            Arden Heights    Boro Zone"
      ]
     },
     "execution_count": 35,
     "metadata": {},
     "output_type": "execute_result"
    }
   ],
   "source": [
    "zones.head()"
   ]
  },
  {
   "cell_type": "code",
   "execution_count": 48,
   "id": "88b22edf-5593-4876-90da-51b87f6e7372",
   "metadata": {},
   "outputs": [
    {
     "name": "stdout",
     "output_type": "stream",
     "text": [
      "For column Borough values are: ['EWR' 'Queens' 'Bronx' 'Manhattan' 'Staten Island' 'Brooklyn' 'Unknown']\n",
      "For column Zone values are: ['Newark Airport' 'Jamaica Bay' 'Allerton/Pelham Gardens' 'Alphabet City'\n",
      " 'Arden Heights' 'Arrochar/Fort Wadsworth' 'Astoria' 'Astoria Park'\n",
      " 'Auburndale' 'Baisley Park']\n",
      "For column service_zone values are: ['EWR' 'Boro Zone' 'Yellow Zone' 'Airports' nan]\n"
     ]
    }
   ],
   "source": [
    "for col in ['Borough', 'Zone', 'service_zone']:\n",
    "    print(f'For column {col} values are: {zones[col].unique()[:10]}')"
   ]
  },
  {
   "cell_type": "code",
   "execution_count": 36,
   "id": "f6b17a9b-250b-40bb-bf1f-d243b9fcb328",
   "metadata": {},
   "outputs": [
    {
     "data": {
      "text/plain": [
       "array([7])"
      ]
     },
     "execution_count": 36,
     "metadata": {},
     "output_type": "execute_result"
    }
   ],
   "source": [
    "zones[zones.Zone == 'Astoria']['LocationID'].unique()"
   ]
  },
  {
   "cell_type": "code",
   "execution_count": 43,
   "id": "63519835-bbae-4655-86ae-7c8adfeb03f5",
   "metadata": {},
   "outputs": [],
   "source": [
    "max_tip = df[df.PULocationID == 7]['tip_amount'].max()"
   ]
  },
  {
   "cell_type": "code",
   "execution_count": 44,
   "id": "f4cbe99e-0bea-4f39-ae80-4d44cb938704",
   "metadata": {},
   "outputs": [
    {
     "data": {
      "text/plain": [
       "88.0"
      ]
     },
     "execution_count": 44,
     "metadata": {},
     "output_type": "execute_result"
    }
   ],
   "source": [
    "max_tip"
   ]
  },
  {
   "cell_type": "code",
   "execution_count": 45,
   "id": "7fe1b69c-3c3d-440f-b419-2773716c99ca",
   "metadata": {},
   "outputs": [
    {
     "data": {
      "text/html": [
       "<div>\n",
       "<style scoped>\n",
       "    .dataframe tbody tr th:only-of-type {\n",
       "        vertical-align: middle;\n",
       "    }\n",
       "\n",
       "    .dataframe tbody tr th {\n",
       "        vertical-align: top;\n",
       "    }\n",
       "\n",
       "    .dataframe thead th {\n",
       "        text-align: right;\n",
       "    }\n",
       "</style>\n",
       "<table border=\"1\" class=\"dataframe\">\n",
       "  <thead>\n",
       "    <tr style=\"text-align: right;\">\n",
       "      <th></th>\n",
       "      <th>VendorID</th>\n",
       "      <th>lpep_pickup_datetime</th>\n",
       "      <th>lpep_dropoff_datetime</th>\n",
       "      <th>store_and_fwd_flag</th>\n",
       "      <th>RatecodeID</th>\n",
       "      <th>PULocationID</th>\n",
       "      <th>DOLocationID</th>\n",
       "      <th>passenger_count</th>\n",
       "      <th>trip_distance</th>\n",
       "      <th>fare_amount</th>\n",
       "      <th>extra</th>\n",
       "      <th>mta_tax</th>\n",
       "      <th>tip_amount</th>\n",
       "      <th>tolls_amount</th>\n",
       "      <th>ehail_fee</th>\n",
       "      <th>improvement_surcharge</th>\n",
       "      <th>total_amount</th>\n",
       "      <th>payment_type</th>\n",
       "      <th>trip_type</th>\n",
       "      <th>congestion_surcharge</th>\n",
       "    </tr>\n",
       "  </thead>\n",
       "  <tbody>\n",
       "    <tr>\n",
       "      <th>506162</th>\n",
       "      <td>2</td>\n",
       "      <td>2019-01-26 00:46:06</td>\n",
       "      <td>2019-01-26 00:50:10</td>\n",
       "      <td>N</td>\n",
       "      <td>1.0</td>\n",
       "      <td>7</td>\n",
       "      <td>146</td>\n",
       "      <td>1</td>\n",
       "      <td>0.92</td>\n",
       "      <td>5.5</td>\n",
       "      <td>0.5</td>\n",
       "      <td>0.5</td>\n",
       "      <td>88.0</td>\n",
       "      <td>0.0</td>\n",
       "      <td>NaN</td>\n",
       "      <td>0.3</td>\n",
       "      <td>94.8</td>\n",
       "      <td>1</td>\n",
       "      <td>1</td>\n",
       "      <td>NaN</td>\n",
       "    </tr>\n",
       "  </tbody>\n",
       "</table>\n",
       "</div>"
      ],
      "text/plain": [
       "        VendorID lpep_pickup_datetime lpep_dropoff_datetime  \\\n",
       "506162         2  2019-01-26 00:46:06   2019-01-26 00:50:10   \n",
       "\n",
       "       store_and_fwd_flag  RatecodeID  PULocationID  DOLocationID  \\\n",
       "506162                  N         1.0             7           146   \n",
       "\n",
       "        passenger_count  trip_distance  fare_amount  extra  mta_tax  \\\n",
       "506162                1           0.92          5.5    0.5      0.5   \n",
       "\n",
       "        tip_amount  tolls_amount  ehail_fee  improvement_surcharge  \\\n",
       "506162        88.0           0.0        NaN                    0.3   \n",
       "\n",
       "        total_amount  payment_type  trip_type  congestion_surcharge  \n",
       "506162          94.8             1          1                   NaN  "
      ]
     },
     "execution_count": 45,
     "metadata": {},
     "output_type": "execute_result"
    }
   ],
   "source": [
    "df[df.tip_amount == max_tip].head()"
   ]
  },
  {
   "cell_type": "code",
   "execution_count": 46,
   "id": "cd17104f-0645-4fcf-a7c6-6c3947a745f2",
   "metadata": {},
   "outputs": [
    {
     "data": {
      "text/html": [
       "<div>\n",
       "<style scoped>\n",
       "    .dataframe tbody tr th:only-of-type {\n",
       "        vertical-align: middle;\n",
       "    }\n",
       "\n",
       "    .dataframe tbody tr th {\n",
       "        vertical-align: top;\n",
       "    }\n",
       "\n",
       "    .dataframe thead th {\n",
       "        text-align: right;\n",
       "    }\n",
       "</style>\n",
       "<table border=\"1\" class=\"dataframe\">\n",
       "  <thead>\n",
       "    <tr style=\"text-align: right;\">\n",
       "      <th></th>\n",
       "      <th>LocationID</th>\n",
       "      <th>Borough</th>\n",
       "      <th>Zone</th>\n",
       "      <th>service_zone</th>\n",
       "    </tr>\n",
       "  </thead>\n",
       "  <tbody>\n",
       "    <tr>\n",
       "      <th>145</th>\n",
       "      <td>146</td>\n",
       "      <td>Queens</td>\n",
       "      <td>Long Island City/Queens Plaza</td>\n",
       "      <td>Boro Zone</td>\n",
       "    </tr>\n",
       "  </tbody>\n",
       "</table>\n",
       "</div>"
      ],
      "text/plain": [
       "     LocationID Borough                           Zone service_zone\n",
       "145         146  Queens  Long Island City/Queens Plaza    Boro Zone"
      ]
     },
     "execution_count": 46,
     "metadata": {},
     "output_type": "execute_result"
    }
   ],
   "source": [
    "zones[zones.LocationID == 146]"
   ]
  }
 ],
 "metadata": {
  "kernelspec": {
   "display_name": "Python 3 (ipykernel)",
   "language": "python",
   "name": "python3"
  },
  "language_info": {
   "codemirror_mode": {
    "name": "ipython",
    "version": 3
   },
   "file_extension": ".py",
   "mimetype": "text/x-python",
   "name": "python",
   "nbconvert_exporter": "python",
   "pygments_lexer": "ipython3",
   "version": "3.10.8"
  }
 },
 "nbformat": 4,
 "nbformat_minor": 5
}
