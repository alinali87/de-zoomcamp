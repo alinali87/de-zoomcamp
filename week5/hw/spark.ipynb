{
 "cells": [
  {
   "cell_type": "code",
   "execution_count": 37,
   "id": "28e1d78b",
   "metadata": {},
   "outputs": [],
   "source": [
    "import pyspark\n",
    "from datetime import datetime\n",
    "from pyspark.sql.functions import *"
   ]
  },
  {
   "cell_type": "code",
   "execution_count": 2,
   "id": "35bcc05e",
   "metadata": {},
   "outputs": [
    {
     "data": {
      "text/plain": [
       "'3.3.1'"
      ]
     },
     "execution_count": 2,
     "metadata": {},
     "output_type": "execute_result"
    }
   ],
   "source": [
    "pyspark.__version__"
   ]
  },
  {
   "cell_type": "code",
   "execution_count": 3,
   "id": "bf958f10",
   "metadata": {},
   "outputs": [],
   "source": [
    "from pyspark.sql import SparkSession"
   ]
  },
  {
   "cell_type": "code",
   "execution_count": 4,
   "id": "e86da4fa",
   "metadata": {},
   "outputs": [
    {
     "name": "stderr",
     "output_type": "stream",
     "text": [
      "Setting default log level to \"WARN\".\n",
      "To adjust logging level use sc.setLogLevel(newLevel). For SparkR, use setLogLevel(newLevel).\n"
     ]
    },
    {
     "name": "stdout",
     "output_type": "stream",
     "text": [
      "23/02/25 15:12:33 WARN NativeCodeLoader: Unable to load native-hadoop library for your platform... using builtin-java classes where applicable\n"
     ]
    }
   ],
   "source": [
    "spark = SparkSession.builder \\\n",
    "    .master(\"local[*]\") \\\n",
    "    .appName(\"test\") \\\n",
    "    .getOrCreate()"
   ]
  },
  {
   "cell_type": "code",
   "execution_count": 5,
   "id": "4bbda37d",
   "metadata": {},
   "outputs": [
    {
     "name": "stdout",
     "output_type": "stream",
     "text": [
      "Untitled.ipynb                test.ipynb\r\n",
      "fhvhv_tripdata_2021-06.csv.gz\r\n"
     ]
    }
   ],
   "source": [
    "!ls"
   ]
  },
  {
   "cell_type": "code",
   "execution_count": 21,
   "id": "41a229c2",
   "metadata": {},
   "outputs": [
    {
     "name": "stderr",
     "output_type": "stream",
     "text": [
      "                                                                                \r"
     ]
    }
   ],
   "source": [
    "df = spark.read.option('inferSchema', True).option('header', True).csv('fhvhv_tripdata_2021-06.csv.gz')"
   ]
  },
  {
   "cell_type": "code",
   "execution_count": 15,
   "id": "247b21ec",
   "metadata": {},
   "outputs": [],
   "source": [
    "df = df.repartition(12)"
   ]
  },
  {
   "cell_type": "code",
   "execution_count": 17,
   "id": "6b3bc04a",
   "metadata": {
    "scrolled": false
   },
   "outputs": [
    {
     "name": "stderr",
     "output_type": "stream",
     "text": [
      "[Stage 6:>                                                         (0 + 8) / 12]\r"
     ]
    },
    {
     "name": "stdout",
     "output_type": "stream",
     "text": [
      "23/02/25 15:28:28 WARN MemoryManager: Total allocation exceeds 95.00% (1,020,054,720 bytes) of heap memory\n",
      "Scaling row group sizes to 95.00% for 8 writers\n"
     ]
    },
    {
     "name": "stderr",
     "output_type": "stream",
     "text": [
      "                                                                                \r"
     ]
    }
   ],
   "source": [
    "df.write.parquet('output')"
   ]
  },
  {
   "cell_type": "code",
   "execution_count": 19,
   "id": "a3a7b513",
   "metadata": {
    "scrolled": true
   },
   "outputs": [
    {
     "name": "stdout",
     "output_type": "stream",
     "text": [
      "total 615936\r\n",
      "-rw-r--r--  1 laede  staff     0B Feb 25 15:28 _SUCCESS\r\n",
      "-rw-r--r--  1 laede  staff    25M Feb 25 15:28 part-00000-7faf5852-7f35-4b5c-8941-14da19e474ae-c000.snappy.parquet\r\n",
      "-rw-r--r--  1 laede  staff    25M Feb 25 15:28 part-00001-7faf5852-7f35-4b5c-8941-14da19e474ae-c000.snappy.parquet\r\n",
      "-rw-r--r--  1 laede  staff    25M Feb 25 15:28 part-00002-7faf5852-7f35-4b5c-8941-14da19e474ae-c000.snappy.parquet\r\n",
      "-rw-r--r--  1 laede  staff    25M Feb 25 15:28 part-00003-7faf5852-7f35-4b5c-8941-14da19e474ae-c000.snappy.parquet\r\n",
      "-rw-r--r--  1 laede  staff    25M Feb 25 15:28 part-00004-7faf5852-7f35-4b5c-8941-14da19e474ae-c000.snappy.parquet\r\n",
      "-rw-r--r--  1 laede  staff    25M Feb 25 15:28 part-00005-7faf5852-7f35-4b5c-8941-14da19e474ae-c000.snappy.parquet\r\n",
      "-rw-r--r--  1 laede  staff    25M Feb 25 15:28 part-00006-7faf5852-7f35-4b5c-8941-14da19e474ae-c000.snappy.parquet\r\n",
      "-rw-r--r--  1 laede  staff    25M Feb 25 15:28 part-00007-7faf5852-7f35-4b5c-8941-14da19e474ae-c000.snappy.parquet\r\n",
      "-rw-r--r--  1 laede  staff    25M Feb 25 15:28 part-00008-7faf5852-7f35-4b5c-8941-14da19e474ae-c000.snappy.parquet\r\n",
      "-rw-r--r--  1 laede  staff    25M Feb 25 15:28 part-00009-7faf5852-7f35-4b5c-8941-14da19e474ae-c000.snappy.parquet\r\n",
      "-rw-r--r--  1 laede  staff    25M Feb 25 15:28 part-00010-7faf5852-7f35-4b5c-8941-14da19e474ae-c000.snappy.parquet\r\n",
      "-rw-r--r--  1 laede  staff    25M Feb 25 15:28 part-00011-7faf5852-7f35-4b5c-8941-14da19e474ae-c000.snappy.parquet\r\n"
     ]
    }
   ],
   "source": [
    "!ls -lh output"
   ]
  },
  {
   "cell_type": "code",
   "execution_count": 22,
   "id": "5130140b",
   "metadata": {},
   "outputs": [
    {
     "data": {
      "text/plain": [
       "DataFrame[dispatching_base_num: string, pickup_datetime: timestamp, dropoff_datetime: timestamp, PULocationID: int, DOLocationID: int, SR_Flag: string, Affiliated_base_number: string]"
      ]
     },
     "metadata": {},
     "output_type": "display_data"
    }
   ],
   "source": [
    "display(df)"
   ]
  },
  {
   "cell_type": "code",
   "execution_count": 23,
   "id": "b1f9a2ec",
   "metadata": {},
   "outputs": [
    {
     "name": "stdout",
     "output_type": "stream",
     "text": [
      "+--------------------+-------------------+-------------------+------------+------------+-------+----------------------+\n",
      "|dispatching_base_num|    pickup_datetime|   dropoff_datetime|PULocationID|DOLocationID|SR_Flag|Affiliated_base_number|\n",
      "+--------------------+-------------------+-------------------+------------+------------+-------+----------------------+\n",
      "|              B02764|2021-06-01 00:02:41|2021-06-01 00:07:46|         174|          18|      N|                B02764|\n",
      "|              B02764|2021-06-01 00:16:16|2021-06-01 00:21:14|          32|         254|      N|                B02764|\n",
      "|              B02764|2021-06-01 00:27:01|2021-06-01 00:42:11|         240|         127|      N|                B02764|\n",
      "|              B02764|2021-06-01 00:46:08|2021-06-01 00:53:45|         127|         235|      N|                B02764|\n",
      "|              B02510|2021-06-01 00:45:42|2021-06-01 01:03:33|         144|         146|      N|                  null|\n",
      "|              B02510|2021-06-01 00:18:15|2021-06-01 00:25:47|          49|          17|      N|                  null|\n",
      "|              B02510|2021-06-01 00:33:06|2021-06-01 00:42:46|          49|         225|      N|                  null|\n",
      "|              B02510|2021-06-01 00:46:27|2021-06-01 00:56:50|         225|         177|      N|                  null|\n",
      "|              B02764|2021-06-01 00:48:06|2021-06-01 01:04:10|         209|          45|      N|                B02764|\n",
      "|              B02875|2021-06-01 00:18:54|2021-06-01 00:26:14|          80|         256|      N|                B02875|\n",
      "+--------------------+-------------------+-------------------+------------+------------+-------+----------------------+\n",
      "only showing top 10 rows\n",
      "\n"
     ]
    }
   ],
   "source": [
    "df.show(10)"
   ]
  },
  {
   "cell_type": "code",
   "execution_count": 26,
   "id": "dcbf3cc5",
   "metadata": {},
   "outputs": [],
   "source": [
    " df_june_15 = df.filter((df.pickup_datetime >= datetime(2021, 6, 15)) & (df.pickup_datetime < datetime(2021, 6, 16)))"
   ]
  },
  {
   "cell_type": "code",
   "execution_count": 27,
   "id": "cb37798a",
   "metadata": {
    "scrolled": true
   },
   "outputs": [
    {
     "name": "stderr",
     "output_type": "stream",
     "text": [
      "                                                                                \r"
     ]
    },
    {
     "data": {
      "text/plain": [
       "452470"
      ]
     },
     "execution_count": 27,
     "metadata": {},
     "output_type": "execute_result"
    }
   ],
   "source": [
    "df_june_15.count()"
   ]
  },
  {
   "cell_type": "code",
   "execution_count": 38,
   "id": "2905023b",
   "metadata": {},
   "outputs": [],
   "source": [
    "df = df.withColumn('duration_sec', unix_timestamp('dropoff_datetime') - unix_timestamp('pickup_datetime'))"
   ]
  },
  {
   "cell_type": "code",
   "execution_count": 39,
   "id": "fdeb7e1a",
   "metadata": {},
   "outputs": [],
   "source": [
    "max_duration_sec = df.select(max(df.duration_sec))"
   ]
  },
  {
   "cell_type": "code",
   "execution_count": 40,
   "id": "e4a2a098",
   "metadata": {
    "scrolled": true
   },
   "outputs": [
    {
     "name": "stderr",
     "output_type": "stream",
     "text": [
      "                                                                                \r"
     ]
    }
   ],
   "source": [
    "max_duration_hour = max_duration_sec.collect()[0][0] / 3600"
   ]
  },
  {
   "cell_type": "code",
   "execution_count": 41,
   "id": "ca39ba76",
   "metadata": {},
   "outputs": [
    {
     "data": {
      "text/plain": [
       "66.8788888888889"
      ]
     },
     "execution_count": 41,
     "metadata": {},
     "output_type": "execute_result"
    }
   ],
   "source": [
    "max_duration_hour"
   ]
  },
  {
   "cell_type": "code",
   "execution_count": 43,
   "id": "ddad02e7",
   "metadata": {
    "scrolled": true
   },
   "outputs": [
    {
     "name": "stdout",
     "output_type": "stream",
     "text": [
      "total 361096\r\n",
      "-rw-r--r--@  1 laede  staff   168M Feb 25 14:01 fhvhv_tripdata_2021-06.csv.gz\r\n",
      "drwxr-xr-x  28 laede  staff   896B Feb 25 15:28 \u001b[34moutput\u001b[m\u001b[m\r\n",
      "-rw-r--r--   1 laede  staff    10K Feb 25 15:57 spark.ipynb\r\n",
      "-rw-r--r--@  1 laede  staff    12K Feb 25 16:00 taxi_zone_lookup.csv\r\n",
      "-rw-r--r--   1 laede  staff    40K Jan 27 11:55 test.ipynb\r\n"
     ]
    }
   ],
   "source": [
    "!ls -lh"
   ]
  },
  {
   "cell_type": "code",
   "execution_count": 44,
   "id": "5df36edc",
   "metadata": {},
   "outputs": [],
   "source": [
    "zones = spark.read.option('inferSchema', True).option('header', True).csv('taxi_zone_lookup.csv')"
   ]
  },
  {
   "cell_type": "code",
   "execution_count": 47,
   "id": "e3ddaabe",
   "metadata": {},
   "outputs": [
    {
     "data": {
      "text/plain": [
       "DataFrame[LocationID: int, Borough: string, Zone: string, service_zone: string]"
      ]
     },
     "metadata": {},
     "output_type": "display_data"
    }
   ],
   "source": [
    "display(zones)"
   ]
  },
  {
   "cell_type": "code",
   "execution_count": 46,
   "id": "3220ae1b",
   "metadata": {},
   "outputs": [],
   "source": [
    "joined = df.join(zones, df.PULocationID == zones.LocationID)"
   ]
  },
  {
   "cell_type": "code",
   "execution_count": 48,
   "id": "92b3db65",
   "metadata": {},
   "outputs": [],
   "source": [
    "joined.createOrReplaceTempView(\"trips\")"
   ]
  },
  {
   "cell_type": "code",
   "execution_count": 50,
   "id": "ca0e7304",
   "metadata": {},
   "outputs": [
    {
     "data": {
      "text/plain": [
       "DataFrame[dispatching_base_num: string, pickup_datetime: timestamp, dropoff_datetime: timestamp, PULocationID: int, DOLocationID: int, SR_Flag: string, Affiliated_base_number: string, duration: interval day to second, duration_sec: bigint, LocationID: int, Borough: string, Zone: string, service_zone: string]"
      ]
     },
     "metadata": {},
     "output_type": "display_data"
    }
   ],
   "source": [
    "display(joined)"
   ]
  },
  {
   "cell_type": "code",
   "execution_count": 51,
   "id": "f8b40f62",
   "metadata": {},
   "outputs": [
    {
     "name": "stderr",
     "output_type": "stream",
     "text": [
      "\r",
      "[Stage 27:>                                                         (0 + 1) / 1]\r"
     ]
    },
    {
     "name": "stdout",
     "output_type": "stream",
     "text": [
      "+--------------------+------+\n",
      "|                zone|   cnt|\n",
      "+--------------------+------+\n",
      "| Crown Heights North|231279|\n",
      "|        East Village|221244|\n",
      "|         JFK Airport|188867|\n",
      "|      Bushwick South|187929|\n",
      "|       East New York|186780|\n",
      "|TriBeCa/Civic Center|164344|\n",
      "|   LaGuardia Airport|161596|\n",
      "|            Union Sq|158937|\n",
      "|        West Village|154698|\n",
      "|             Astoria|152493|\n",
      "|     Lower East Side|151020|\n",
      "|        East Chelsea|147673|\n",
      "|Central Harlem North|146402|\n",
      "|Williamsburg (Nor...|143683|\n",
      "|          Park Slope|143594|\n",
      "|  Stuyvesant Heights|141427|\n",
      "|        Clinton East|139611|\n",
      "|West Chelsea/Huds...|139431|\n",
      "|             Bedford|138428|\n",
      "|         Murray Hill|137879|\n",
      "+--------------------+------+\n",
      "only showing top 20 rows\n",
      "\n"
     ]
    },
    {
     "name": "stderr",
     "output_type": "stream",
     "text": [
      "\r",
      "                                                                                \r"
     ]
    }
   ],
   "source": [
    "spark.sql('select zone, count(*) as cnt from trips group by zone order by 2 desc').show()"
   ]
  }
 ],
 "metadata": {
  "kernelspec": {
   "display_name": "Python 3 (ipykernel)",
   "language": "python",
   "name": "python3"
  },
  "language_info": {
   "codemirror_mode": {
    "name": "ipython",
    "version": 3
   },
   "file_extension": ".py",
   "mimetype": "text/x-python",
   "name": "python",
   "nbconvert_exporter": "python",
   "pygments_lexer": "ipython3",
   "version": "3.10.9"
  }
 },
 "nbformat": 4,
 "nbformat_minor": 5
}
